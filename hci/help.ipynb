{
 "cells": [
  {
   "cell_type": "code",
   "execution_count": 2,
   "id": "99bd4523",
   "metadata": {},
   "outputs": [],
   "source": [
    "import tkinter as tk\n",
    "from tkinter import ttk\n",
    "\n"
   ]
  },
  {
   "cell_type": "code",
   "execution_count": 3,
   "id": "a6784c82",
   "metadata": {},
   "outputs": [],
   "source": [
    "# Initialize main window\n",
    "root = tk.Tk()\n",
    "root.title(\"App Help Screen\")\n",
    "root.geometry(\"500x400\")\n",
    "root.configure(bg=\"#f5f5f5\")\n",
    "\n",
    "# Title of the help screen\n",
    "title_label = tk.Label(root, text=\"Help & Support\", font=(\"Helvetica\", 16, \"bold\"), bg=\"#f5f5f5\")\n",
    "title_label.pack(pady=10)\n",
    "\n",
    "# Introduction/Description\n",
    "description_label = tk.Label(root, text=\"Welcome to the Help & Support Center. Here you can find answers to common questions and guides to help you navigate the app.\", wraplength=450, bg=\"#f5f5f5\")\n",
    "description_label.pack(pady=5)\n",
    "\n",
    "# Instructions Section\n",
    "instructions_frame = tk.LabelFrame(root, text=\"Getting Started\", bg=\"#f5f5f5\", padx=10, pady=10)\n",
    "instructions_frame.pack(fill=\"both\", expand=\"yes\", padx=15, pady=10)\n",
    "\n",
    "instructions_text = \"\"\"1. Open the app and log in with your credentials.\n",
    "2. Use the navigation bar to access different sections.\n",
    "3. Customize your settings in the 'Settings' menu.\n",
    "4. For any issues, contact support using the 'Contact Us' section.\"\"\"\n",
    "\n",
    "instructions_label = tk.Label(instructions_frame, text=instructions_text, justify=\"left\", bg=\"#f5f5f5\")\n",
    "instructions_label.pack()\n",
    "\n",
    "# FAQ Section\n",
    "faq_frame = tk.LabelFrame(root, text=\"Frequently Asked Questions (FAQ)\", bg=\"#f5f5f5\", padx=10, pady=10)\n",
    "faq_frame.pack(fill=\"both\", expand=\"yes\", padx=15, pady=10)\n",
    "\n",
    "faq_text = \"\"\"Q: How do I reset my password?\n",
    "A: Go to 'Settings' > 'Account' > 'Reset Password' and follow the instructions.\n",
    "\n",
    "Q: How can I contact support?\n",
    "A: Use the 'Contact Us' section under 'Help' or email us at support@app.com.\n",
    "\n",
    "Q: Why can't I log in?\n",
    "A: Ensure your internet connection is stable and double-check your login credentials.\"\"\"\n",
    "\n",
    "faq_label = tk.Label(faq_frame, text=faq_text, justify=\"left\", bg=\"#f5f5f5\")\n",
    "faq_label.pack()\n",
    "\n",
    "# Close Button\n",
    "close_button = tk.Button(root, text=\"Close\", command=root.destroy, bg=\"#4CAF50\", fg=\"white\")\n",
    "close_button.pack(pady=10)\n",
    "\n",
    "# Start main loop\n",
    "root.mainloop()\n"
   ]
  }
 ],
 "metadata": {
  "kernelspec": {
   "display_name": "Python 3",
   "language": "python",
   "name": "python3"
  },
  "language_info": {
   "codemirror_mode": {
    "name": "ipython",
    "version": 3
   },
   "file_extension": ".py",
   "mimetype": "text/x-python",
   "name": "python",
   "nbconvert_exporter": "python",
   "pygments_lexer": "ipython3",
   "version": "3.11.9"
  }
 },
 "nbformat": 4,
 "nbformat_minor": 5
}
